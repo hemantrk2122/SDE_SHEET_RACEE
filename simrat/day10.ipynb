{
 "cells": [
  {
   "cell_type": "code",
   "execution_count": 32,
   "metadata": {},
   "outputs": [
    {
     "data": {
      "text/plain": [
       "[[1, 1, 2], [1, 2, 1], [1, 1, 2], [1, 2, 1], [2, 1, 1], [2, 1, 1]]"
      ]
     },
     "execution_count": 32,
     "metadata": {},
     "output_type": "execute_result"
    }
   ],
   "source": [
    "#46. Permutations\n",
    "arr = []\n",
    "def permute_helper(nums,curr):\n",
    "    if len(nums) == 0:\n",
    "        arr.append(curr)\n",
    "    for i in range(len(nums)):\n",
    "        elem = nums[i]\n",
    "        permute_helper(nums[:i]+nums[i+1:],curr+[elem])\n",
    "    \n",
    "permute_helper([1,1,2],[])\n",
    "arr"
   ]
  },
  {
   "cell_type": "markdown",
   "metadata": {},
   "source": [
    "# Permutation using Swaps:-\n",
    "start,end are initialized as 0,len(nums)\n",
    "1. Loop from start to end\n",
    "2. 0th index is swapped and 0th then its start+1 is set next function is called\n",
    "3. then 0th index is swapped with 1st element and next function is called\n",
    "```\n",
    "                                -----------------[1,2,3]-------------------\n",
    "                                |                   |                     |\n",
    "                            [1,2,3]             [2,1,3]                 [3,2,1]\n",
    "                            ---|----            ---|---                 ---|---\n",
    "                            |      |            |      |                |     |\n",
    "                        [1,2,3] [1,3,2]        [2,1,3] [2,3,1]       [3,2,1],[3,1,2]\n",
    "\n",
    "\n",
    "First Method was faster\n",
    "```     "
   ]
  },
  {
   "cell_type": "code",
   "execution_count": 42,
   "metadata": {},
   "outputs": [
    {
     "data": {
      "text/plain": [
       "[[1, 2, 3], [1, 3, 2], [2, 1, 3], [2, 3, 1], [3, 2, 1], [3, 1, 2]]"
      ]
     },
     "execution_count": 42,
     "metadata": {},
     "output_type": "execute_result"
    }
   ],
   "source": [
    "def newPermutation(nums):\n",
    "    def backtrack(start,end):\n",
    "        if start == end:\n",
    "            ans.append(nums[:])\n",
    "        for i in range(start,end):\n",
    "            nums[start],nums[i] = nums[i],nums[start]\n",
    "            backtrack(start+1,end)\n",
    "            nums[start],nums[i] = nums[i],nums[start]\n",
    "    \n",
    "    ans = []\n",
    "    backtrack(0,len(nums))\n",
    "    return ans\n",
    "\n",
    "newPermutation([1,2,3])"
   ]
  },
  {
   "cell_type": "code",
   "execution_count": null,
   "metadata": {},
   "outputs": [],
   "source": []
  }
 ],
 "metadata": {
  "interpreter": {
   "hash": "13eb0af71620a846e484681143862ad0a4deab6cadfc353264e5c14897c11035"
  },
  "kernelspec": {
   "display_name": "Python 3.9.9 64-bit",
   "language": "python",
   "name": "python3"
  },
  "language_info": {
   "codemirror_mode": {
    "name": "ipython",
    "version": 3
   },
   "file_extension": ".py",
   "mimetype": "text/x-python",
   "name": "python",
   "nbconvert_exporter": "python",
   "pygments_lexer": "ipython3",
   "version": "3.9.9"
  },
  "orig_nbformat": 4
 },
 "nbformat": 4,
 "nbformat_minor": 2
}
