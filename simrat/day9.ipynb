{
 "cells": [
  {
   "cell_type": "code",
   "execution_count": 28,
   "metadata": {},
   "outputs": [
    {
     "name": "stdout",
     "output_type": "stream",
     "text": [
      "0 2 3 5 "
     ]
    }
   ],
   "source": [
    "# SUBSET SUM\n",
    "import sys\n",
    "sys.setrecursionlimit(10**6)\n",
    "ans = []\n",
    "def subset(arr,k):\n",
    "    if len(arr) == 0:\n",
    "        ans.append(sum(k))\n",
    "        return\n",
    "    \n",
    "    subset(arr[1:],k)\n",
    "    subset(arr[1:],k+[arr[0]])\n",
    "        \n",
    "arr = [2,3]\n",
    "subset(arr,[])\n",
    "for i in sorted(ans):\n",
    "    print(i,end=' ')\n",
    "\n"
   ]
  },
  {
   "cell_type": "code",
   "execution_count": 29,
   "metadata": {},
   "outputs": [
    {
     "name": "stdout",
     "output_type": "stream",
     "text": [
      "[[], [4], [4, 4], [4, 4, 4], [4, 4, 4, 4], [1], [1, 4], [1, 4, 4], [1, 4, 4, 4], [1, 4, 4, 4, 4]]\n"
     ]
    }
   ],
   "source": [
    "# Subset 2 # duplicate\n",
    "ans = []\n",
    "def subset(arr,k):\n",
    "    if len(arr) == 0:\n",
    "        if k not in ans:\n",
    "            ans.append(k)\n",
    "        return\n",
    "    \n",
    "    subset(arr[1:],k)\n",
    "    subset(arr[1:],k+[arr[0]])\n",
    "\n",
    "nums = [4,4,4,1,4] \n",
    "subset(sorted(nums),[])     \n",
    "print(ans)\n",
    "\n"
   ]
  },
  {
   "cell_type": "code",
   "execution_count": 7,
   "metadata": {},
   "outputs": [
    {
     "name": "stdout",
     "output_type": "stream",
     "text": [
      "[[], [1], [1, 4], [1, 4, 4], [1, 4, 4, 4], [1, 4, 4, 4, 4], [4], [4, 4], [4, 4, 4], [4, 4, 4, 4]]\n"
     ]
    }
   ],
   "source": [
    "# Subset 2\n",
    "ans = [[]]\n",
    "def subset2(arr,inx,lar):\n",
    "    if inx == len(arr):\n",
    "        return \n",
    "    else:\n",
    "        for i in range(inx,len(arr)):\n",
    "            if i == inx or arr[i] != arr[i-1]:      # We will take only those element either they are first index or are unique \n",
    "                ans.append(lar+[arr[i]])\n",
    "                subset2(arr,i+1,lar+[arr[i]])\n",
    "                \n",
    "arr = [4,4,4,1,4]                                   # TC N X 2^n\n",
    "subset2(sorted(arr),0,[])\n",
    "print(ans)\n",
    "\n",
    "\n"
   ]
  },
  {
   "cell_type": "code",
   "execution_count": 49,
   "metadata": {},
   "outputs": [
    {
     "data": {
      "text/plain": [
       "[[7], [2, 2, 3]]"
      ]
     },
     "execution_count": 49,
     "metadata": {},
     "output_type": "execute_result"
    }
   ],
   "source": [
    "# combination 1  \n",
    "ans = []\n",
    "def combinationSum(arr,target,lar):\n",
    "    if target == 0:\n",
    "        ans.append(lar)\n",
    "        return\n",
    "    else:\n",
    "        for i in arr:\n",
    "            if i <= target and (len(lar) == 0 or lar[-1] <=i):       # Pick the element only if its equal or less than target and is grater then previous or equal element\n",
    "                combinationSum(arr,target-i,lar+[i])\n",
    "arr = [7,6,3,2]\n",
    "target = 7\n",
    "combinationSum(arr,target,[])\n",
    "ans"
   ]
  },
  {
   "cell_type": "code",
   "execution_count": 54,
   "metadata": {},
   "outputs": [
    {
     "name": "stdout",
     "output_type": "stream",
     "text": [
      "[[1, 2, 2, 2]]\n"
     ]
    }
   ],
   "source": [
    "# combination 2\n",
    "ans = []\n",
    "candidates = [2,2,2,1,2]\n",
    "candidates.sort()\n",
    "def combinationSum2(inx,target,lar):            \n",
    "    if target == 0:\n",
    "        ans.append(lar)\n",
    "        return\n",
    "    else:\n",
    "        for i in range(inx,len(candidates)):\n",
    "            if candidates[i] > target:\n",
    "                return\n",
    "            if i == inx or candidates[i-1] != candidates[i]:  \n",
    "                combinationSum2(i+1,target-candidates[i],lar+[candidates[i]])\n",
    "            \n",
    "\n",
    "combinationSum2(0,7,[])\n",
    "print(ans)"
   ]
  },
  {
   "cell_type": "code",
   "execution_count": 22,
   "metadata": {},
   "outputs": [
    {
     "name": "stdout",
     "output_type": "stream",
     "text": [
      "[['a', 'a', 'b'], ['aa', 'b']]\n"
     ]
    }
   ],
   "source": [
    "# Partition Pallindrome\n",
    "ans = []\n",
    "def partitionHelper(inp,temp):\n",
    "    global ans\n",
    "    if len(inp) == 0:\n",
    "        ans+= [temp]\n",
    "        return\n",
    "    for i in range(len(inp)):\n",
    "        if inp[:i+1] == inp[:i+1][::-1]:                           # Checks for pallindrome in substrings\n",
    "            partitionHelper(inp[i+1:],temp+[inp[:i+1]])\n",
    "    \n",
    "\n",
    "\n",
    "partitionHelper('aab',[])\n",
    "print(ans)"
   ]
  },
  {
   "cell_type": "code",
   "execution_count": 27,
   "metadata": {},
   "outputs": [
    {
     "name": "stdout",
     "output_type": "stream",
     "text": [
      "12435\n"
     ]
    }
   ],
   "source": [
    "# Permutation Sequence aka k th Permutation\n",
    "fact = [1, 1, 2, 6, 24, 120, 720, 5040, 40320, 362880]\n",
    "def getPermutationHelper(arr,k,s = \"\"):\n",
    "    if len(arr) == 0:\n",
    "        return s\n",
    "    else:\n",
    "        n = len(arr)\n",
    "        inx = k//fact[n-1]\n",
    "        return getPermutationHelper(arr[:inx]+arr[inx+1:],k%fact[n-1],s+arr[inx])\n",
    "        \n",
    "\n",
    "n = 5\n",
    "k = 3\n",
    "print(getPermutationHelper([str(i) for i in range(1,n+1)],k-1,''))\n",
    "\n",
    "\n",
    "\n"
   ]
  }
 ],
 "metadata": {
  "interpreter": {
   "hash": "13eb0af71620a846e484681143862ad0a4deab6cadfc353264e5c14897c11035"
  },
  "kernelspec": {
   "display_name": "Python 3.9.9 64-bit",
   "language": "python",
   "name": "python3"
  },
  "language_info": {
   "codemirror_mode": {
    "name": "ipython",
    "version": 3
   },
   "file_extension": ".py",
   "mimetype": "text/x-python",
   "name": "python",
   "nbconvert_exporter": "python",
   "pygments_lexer": "ipython3",
   "version": "3.9.9"
  },
  "orig_nbformat": 4
 },
 "nbformat": 4,
 "nbformat_minor": 2
}
