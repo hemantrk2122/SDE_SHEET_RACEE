{
 "cells": [
  {
   "cell_type": "markdown",
   "metadata": {},
   "source": [
    "# Rotate Matrix\n",
    "Two Steps\n",
    "1. Take the transpose\n",
    "2. Reverse each row"
   ]
  },
  {
   "cell_type": "code",
   "execution_count": 3,
   "metadata": {},
   "outputs": [
    {
     "name": "stdout",
     "output_type": "stream",
     "text": [
      "[[7, 4, 1], [8, 5, 2], [9, 6, 3]]\n"
     ]
    }
   ],
   "source": [
    "# Rotate The Matrix\n",
    "def rotatematrix(matrix):\n",
    "    for i in range(len(matrix)):\n",
    "        for j in range(i):\n",
    "            matrix[i][j],matrix[j][i] = matrix[j][i],matrix[i][j] \n",
    "    for i in range(len(matrix)):\n",
    "        matrix[i].reverse()\n",
    "    return matrix\n",
    "\n",
    "matrix = [[1,2,3],[4,5,6],[7,8,9]]\n",
    "print(rotatematrix(matrix))\n"
   ]
  },
  {
   "cell_type": "markdown",
   "metadata": {},
   "source": [
    "### Merge Two intervals\n",
    "1. First find logic whether two interval are overlapping\n",
    "2. Sort the given array on the basis of first index\n",
    "3. if two consecutive interval are overlapping then delete prev and make new combining them"
   ]
  },
  {
   "cell_type": "code",
   "execution_count": 4,
   "metadata": {},
   "outputs": [
    {
     "name": "stdout",
     "output_type": "stream",
     "text": [
      "[[1, 6], [8, 10], [15, 18]]\n",
      "[[1, 12]]\n"
     ]
    }
   ],
   "source": [
    "def merge(intervals):\n",
    "    def isoverlapping(a,b,c,d):                                           # First we find that is two ranges are overlapping\n",
    "        if d<a or b < c:\n",
    "            return False\n",
    "        else:\n",
    "            return True\n",
    "    if len(intervals)==1:\n",
    "        return intervals\n",
    "    prev,nxt = 0,1\n",
    "    intervals[:] = sorted(intervals,key= lambda x:x[0])                                                     # sort on the basis of first index\n",
    "    while nxt < len(intervals):\n",
    "        a,b,c,d = intervals[prev][0],intervals[prev][1],intervals[nxt][0],intervals[nxt][1]\n",
    "        if not isoverlapping(a,b,c,d):\n",
    "            prev+=1\n",
    "            nxt+=1\n",
    "        else:                                                           # new element is mae combining the overlapping interval\n",
    "            new = [min(a,c),max(b,d)]\n",
    "            intervals.remove(intervals[prev])                           # Making space in new elment previous are deleted\n",
    "            intervals[prev] = new\n",
    "    return intervals\n",
    "intervals = [[1,3],[2,6],[8,10],[15,18]]\n",
    "print(merge(intervals))\n",
    "print(merge([[1,3],[6,12],[2,6],[8,10]]))\n",
    "\n"
   ]
  },
  {
   "cell_type": "markdown",
   "metadata": {},
   "source": [
    "#### Merge two sorted subarray \n",
    "1. Take 2 index at 0 for two array\n",
    "2. if element at arr[ind1] <= arr1[ind2], we iterate to next\n",
    "3. if arr1[ind2] < arr[ind1], we make space for element in arr and insert arr1[ind2]\n",
    "4. if element of arr1 are left they are added at the end of the lists"
   ]
  },
  {
   "cell_type": "code",
   "execution_count": 5,
   "metadata": {},
   "outputs": [
    {
     "name": "stdout",
     "output_type": "stream",
     "text": [
      "[0, 1, 2, 3, 7, 0, 0, 0] 0 0\n",
      "[0, 0, 1, 2, 3, 7, 0, 0] 0 1\n",
      "[0, 0, 1, 2, 3, 7, 0, 0] 1 1\n",
      "[0, 0, 1, 1, 2, 3, 7, 0] 1 2\n",
      "[0, 0, 1, 1, 2, 3, 7, 0] 2 2\n",
      "[0, 0, 1, 1, 2, 2, 3, 7]\n"
     ]
    }
   ],
   "source": [
    "#88. Merge Sorted Array\n",
    "nums1 =  [0,1,2,3,7,0,0,0]\n",
    "m = 5\n",
    "nums2 = [0,1,2]\n",
    "n = len(nums2)\n",
    "def merge(nums1,m,nums2,n):\n",
    "    if n == 0:\n",
    "        return\n",
    "    elif m == 0:\n",
    "        nums1[:] = nums2\n",
    "        return\n",
    "    else:\n",
    "        nums1_idx = 0\n",
    "        nums2_idx = 0\n",
    "        start_idx = m\n",
    "        while(nums1_idx < start_idx and nums2_idx < n):\n",
    "            print(nums1,nums1[nums1_idx],nums2[nums2_idx])\n",
    "            if nums1[nums1_idx] < nums2[nums2_idx]:             # element of 2nd array is larger so we will ignore\n",
    "                nums1_idx+=1                                    # increment the nums1 pointer\n",
    "            else:\n",
    "                for i in range(start_idx,nums1_idx,-1):\n",
    "                    nums1[i],nums1[i-1] = nums1[i-1],nums1[i]                              \n",
    "                # shift right nums1 array and make space\n",
    "                nums1[nums1_idx] = nums2[nums2_idx]         # equal the value\n",
    "                nums1_idx+=1\n",
    "                nums2_idx+=1\n",
    "                start_idx+=1\n",
    "        while(nums2_idx<n):\n",
    "            nums1[start_idx] = nums2[nums2_idx]\n",
    "            start_idx+=1\n",
    "            nums2_idx+=1\n",
    "\n",
    "\n",
    "merge(nums1,m,nums2,n)\n",
    "print(nums1)"
   ]
  },
  {
   "cell_type": "markdown",
   "metadata": {},
   "source": [
    "### Find the Duplicate Number\n",
    "It can be solved the problem using the two ways\n",
    "1. First create the hash map TC O(n) M O(n)\n",
    "2. Floyd's Tortoise and Hare\n",
    "```\n",
    "If there is a duplicate element then num[i],num[num[i]],num[num[num[i]]], will create a cycle\n",
    "1. So First we two element hare and tortoise, Hare moves num[num[hare]] and tortoise moves in num[tortoise]\n",
    "2. Till they meet at a point \n",
    "3. After that both tortoise and hare move at same speed num[hare] and num[tortoise]\n",
    "4. They will reach at entrance point\n",
    "```\n",
    "\n",
    "For more [explaination](https://leetcode.com/problems/find-the-duplicate-number/solution/) "
   ]
  },
  {
   "cell_type": "code",
   "execution_count": 5,
   "metadata": {},
   "outputs": [
    {
     "name": "stdout",
     "output_type": "stream",
     "text": [
      "2\n"
     ]
    }
   ],
   "source": [
    "#287. Find the Duplicate Number  # using Hash map Approach \n",
    "from collections import Counter \n",
    "nums = [2,2,2,2,2]\n",
    "dar = Counter(nums)\n",
    "for i in dar.keys():\n",
    "    if dar[i] > 1:\n",
    "        print(i)\n",
    "        break\n",
    "    \n"
   ]
  },
  {
   "cell_type": "code",
   "execution_count": 23,
   "metadata": {},
   "outputs": [
    {
     "name": "stdout",
     "output_type": "stream",
     "text": [
      "2\n"
     ]
    }
   ],
   "source": [
    "#287. Find the Duplicate Number  # Rabbit hare Approach\n",
    "nums = [1,3,4,2,2]\n",
    "slow,fast = nums[0],nums[0]\n",
    "while True:\n",
    "    slow = nums[slow]\n",
    "    fast = nums[nums[fast]]\n",
    "    if slow == fast:\n",
    "        break\n",
    "\n",
    "fast = nums[0]\n",
    "while slow!=fast:\n",
    "    slow = nums[slow]\n",
    "    fast = nums[fast]\n",
    "    #print(slow,fast)\n",
    "print(slow)\n"
   ]
  },
  {
   "cell_type": "markdown",
   "metadata": {},
   "source": [
    "### Repeat and Missing Number Array\n",
    "To find the integer in array of length n\n",
    "X is extra element\n",
    "Y is missing element\n",
    "\n",
    "3 Approaches\n",
    "1. Using Hash Map:- TC:- O(n),Memory O(n)\n",
    "2. Sum of Square:- TC:- O(n),Memory O(1)  MAY OVERFLOW when calculating sum of square\n",
    "3. Xor approach:- TC:- O(n),Memory O(1)\n",
    "\n",
    "XOR approach \n",
    "1. We take XOR of every number in the array\n",
    "2. We take XOR of every number 1 to n\n",
    "3. We take XOR of 1 and 2 we get we get X xor Y\n",
    "4. Then we finds the MSB of ans from part 3\n",
    "5. Then we put divide element of an array into 2 group \n",
    "6. We will get X and Y. To find which is which we iterate and keep the count of the data.  "
   ]
  },
  {
   "cell_type": "code",
   "execution_count": 11,
   "metadata": {},
   "outputs": [
    {
     "data": {
      "text/plain": [
       "[3, 4]"
      ]
     },
     "execution_count": 11,
     "metadata": {},
     "output_type": "execute_result"
    }
   ],
   "source": [
    "# Repeat the missing number  # using Hash map approach\n",
    "A = [3,1,2,5,3]\n",
    "def repeatedNumber(A):\n",
    "        zero = 0\n",
    "        one = 0\n",
    "        count = Counter(A)\n",
    "        for i in range(1,len(A)+1):\n",
    "            if count[i] == 0:\n",
    "                zero = i\n",
    "            elif count[i] == 2:\n",
    "                one = i\n",
    "        return [one] + [zero]\n",
    "        \n",
    "        \n",
    "repeatedNumber(A)\n"
   ]
  },
  {
   "cell_type": "code",
   "execution_count": 15,
   "metadata": {},
   "outputs": [
    {
     "data": {
      "text/plain": [
       "[3, 4]"
      ]
     },
     "execution_count": 15,
     "metadata": {},
     "output_type": "execute_result"
    }
   ],
   "source": [
    "# Repeat the missing number  # using sum approach\n",
    "arr = [3,1,2,5,3]\n",
    "def repeatedNumberSum(arr):  # in example missing is X extra is y\n",
    "    n = len(arr)\n",
    "    s1,s2 = 0,0\n",
    "    for i in arr:\n",
    "        s1+=i\n",
    "        s2+=i**2\n",
    "    trueSum1 = n*(n+1)//2\n",
    "    trueSum2 = trueSum1*(2*n+1)//3\n",
    "    diff = trueSum1 - s1   # X-y\n",
    "    add = (trueSum2 - s2)//(diff)  # X+y\n",
    "    X = (diff+add)//2\n",
    "    y = (add-diff)//2\n",
    "    return [y] + [X]\n",
    "\n",
    "\n",
    "repeatedNumberSum(arr)"
   ]
  },
  {
   "cell_type": "code",
   "execution_count": 2,
   "metadata": {},
   "outputs": [
    {
     "data": {
      "text/plain": [
       "[3, 4]"
      ]
     },
     "execution_count": 2,
     "metadata": {},
     "output_type": "execute_result"
    }
   ],
   "source": [
    "# Repeat the missing number  # using xor approach\n",
    "arr = [3,1,2,5,3]\n",
    "def repeatedNumberxor(arr):\n",
    "    x = 0\n",
    "    y = 0\n",
    "    arrxor = 0\n",
    "    nxor = 0\n",
    "    for i in range(1,len(arr)+1):\n",
    "        arrxor ^= arr[i-1]\n",
    "        nxor ^= i\n",
    "    xxory = nxor^arrxor\n",
    "    setBitno = xxory & ~(xxory - 1)  # Finds the LSB Xxory\n",
    "    for i in range(1,len(arr)+1):\n",
    "        if arr[i-1] & setBitno:\n",
    "            x^=arr[i-1]\n",
    "        else:\n",
    "            y^=arr[i-1]\n",
    "\n",
    "        if i & setBitno:\n",
    "            x^=i\n",
    "        else:\n",
    "            y^=i\n",
    "    count = 0\n",
    "    for i in arr:\n",
    "        if i == x:\n",
    "            count+=1\n",
    "    if count==0:\n",
    "        return [y] + [x]\n",
    "    else:\n",
    "        return [x] + [y]\n",
    "         \n",
    "\n",
    "\n",
    "\n",
    "repeatedNumberxor(arr)\n"
   ]
  },
  {
   "cell_type": "markdown",
   "metadata": {},
   "source": [
    "# Merge 2 sorted array\n",
    "1. Gap method\n",
    "    1. Initially take the gap as (m+n)/2;\n",
    "    2. Take as a pointer1 = 0 and pointer2 = gap.\n",
    "    3. Run a oop from pointer1 &  pointer2 to  m+n and whenever arr[pointer2]<arr[pointer1], just swap those.\n",
    "    4. After completion of the loop reduce the gap as gap=gap/2.\n",
    "    5. Repeat the process until gap>0. "
   ]
  },
  {
   "cell_type": "code",
   "execution_count": 21,
   "metadata": {},
   "outputs": [
    {
     "data": {
      "text/plain": [
       "[0, 1, 1, 2, 2, 3, 3, 7, 8]"
      ]
     },
     "execution_count": 21,
     "metadata": {},
     "output_type": "execute_result"
    }
   ],
   "source": [
    "# Merge 2 sorted array \n",
    "# Gap methold\n",
    "from math import ceil\n",
    "nums1 =  [0,1,2,3,7,8,0,0,0]\n",
    "m = 6\n",
    "nums2 = [1,2,3]\n",
    "n = len(nums2)\n",
    "nums1[m:] = nums2\n",
    "gap = ceil((m + n)/2)\n",
    "while gap>=1:\n",
    "    k = gap\n",
    "    i = 0\n",
    "    while k < m+n:\n",
    "        if nums1[i] > nums1[k]:\n",
    "            nums1[i],nums1[k] = nums1[k],nums1[i]\n",
    "        i+=1\n",
    "        k+=1\n",
    "    if gap == 1:\n",
    "        break\n",
    "    gap = ceil(gap/2)\n",
    "nums1"
   ]
  },
  {
   "cell_type": "markdown",
   "metadata": {},
   "source": [
    "# Inversion of an Array\n",
    "1. Brute force \n",
    "2. Counting when Merging two array\n",
    "   (Read [this](https://leetcode.com/problems/reverse-pairs/discuss/97268/General-principles-behind-problems-similar-to-%22Reverse-Pairs%22))"
   ]
  },
  {
   "cell_type": "code",
   "execution_count": 1,
   "metadata": {},
   "outputs": [
    {
     "data": {
      "text/plain": [
       "3"
      ]
     },
     "execution_count": 1,
     "metadata": {},
     "output_type": "execute_result"
    }
   ],
   "source": [
    "#Inversion of Array                   # Brute force approach\n",
    "arr = [2,4,1,3,5]\n",
    "count = 0   \n",
    "for i in range(len(arr)):\n",
    "    num = arr[i]\n",
    "    for j in range(i,len(arr)):\n",
    "        if arr[j] < num:\n",
    "            count+=1\n",
    "count\n",
    "\n",
    "\n",
    "\n"
   ]
  },
  {
   "cell_type": "code",
   "execution_count": 3,
   "metadata": {},
   "outputs": [
    {
     "name": "stdout",
     "output_type": "stream",
     "text": [
      "238\n"
     ]
    }
   ],
   "source": [
    "# Count Inversion \n",
    "inversion = 0\n",
    "def mergedtwoSortedarray(so1,so2):\n",
    "    global inversion\n",
    "    so1_inx,so2_inx = 0,0\n",
    "    ans = []\n",
    "    while so1_inx < len(so1) and so2_inx < len(so2):\n",
    "        if so1[so1_inx] > so2[so2_inx]:    # Will find inversion here \n",
    "            inversion+= len(so1) - so1_inx\n",
    "            ans.append(so2[so2_inx])\n",
    "            so2_inx+=1\n",
    "        else:\n",
    "            ans.append(so1[so1_inx])\n",
    "            so1_inx+=1\n",
    "    #print(ans,so1_inx,so2_inx)\n",
    "    if so2_inx < len(so2):                # so2 is unfinished\n",
    "        ans+=so2[so2_inx:]\n",
    "    elif so1_inx < len(so1):\n",
    "        ans+=so1[so1_inx:]\n",
    "    return ans\n",
    "\n",
    "def mergeSort(arr,low,high):\n",
    "    if low == high:\n",
    "        return [arr[low]]\n",
    "    else:\n",
    "        mid = (low + high)//2\n",
    "        so1 = mergeSort(arr,low,mid)\n",
    "        so2 = mergeSort(arr,mid+1,high)\n",
    "        merged = mergedtwoSortedarray(so1,so2)\n",
    "    return merged\n",
    "nums = [174,165,142,212,254,369,48,145,163,258,38,360,224,242,30,279,317,36,191,343,289,107,41,443,265,149,447,306,391,230,371,351,7,102]\n",
    "mergeSort(nums,0,len(nums)-1)\n",
    "print(inversion)\n",
    "\n",
    "\n",
    "        \n",
    "\n",
    "\n",
    "            \n",
    "    "
   ]
  },
  {
   "cell_type": "code",
   "execution_count": null,
   "metadata": {},
   "outputs": [],
   "source": []
  }
 ],
 "metadata": {
  "interpreter": {
   "hash": "512d1aa5231f9f9b719886079d7fd0e1cd25f3f97ae470d3b1b4989f1fed8626"
  },
  "kernelspec": {
   "display_name": "Python 3.9.9 64-bit (windows store)",
   "language": "python",
   "name": "python3"
  },
  "language_info": {
   "codemirror_mode": {
    "name": "ipython",
    "version": 3
   },
   "file_extension": ".py",
   "mimetype": "text/x-python",
   "name": "python",
   "nbconvert_exporter": "python",
   "pygments_lexer": "ipython3",
   "version": "3.9.9"
  },
  "orig_nbformat": 4
 },
 "nbformat": 4,
 "nbformat_minor": 2
}
